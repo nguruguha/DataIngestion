{
 "cells": [
  {
   "cell_type": "markdown",
   "id": "065de9b4",
   "metadata": {},
   "source": [
    "## Importing the required libraries"
   ]
  },
  {
   "cell_type": "code",
   "execution_count": null,
   "id": "541c46ea",
   "metadata": {},
   "outputs": [],
   "source": [
    "import dask.dataframe as dd\n",
    "import pandas as pd\n",
    "import time\n",
    "import numpy as np\n"
   ]
  },
  {
   "cell_type": "markdown",
   "id": "b4dc0776",
   "metadata": {},
   "source": [
    "## Using Dask to read the data "
   ]
  },
  {
   "cell_type": "code",
   "execution_count": null,
   "id": "8f4d359c",
   "metadata": {},
   "outputs": [],
   "source": [
    "import dask.dataframe as dd\n",
    "start = time.time()\n",
    "df = dd.read_csv(\"../Datasets/airline.csv\",dtype={'CANCELLATION_CODE': 'object'})\n",
    "end = time.time()\n",
    "print(end - start)"
   ]
  },
  {
   "cell_type": "code",
   "execution_count": null,
   "id": "527b4c54",
   "metadata": {},
   "outputs": [],
   "source": [
    "df.shape[0].compute()"
   ]
  },
  {
   "cell_type": "code",
   "execution_count": null,
   "id": "882ae25d",
   "metadata": {},
   "outputs": [],
   "source": [
    "df.head(10)"
   ]
  },
  {
   "cell_type": "code",
   "execution_count": null,
   "id": "520c111f",
   "metadata": {},
   "outputs": [],
   "source": [
    "df.columns"
   ]
  },
  {
   "cell_type": "markdown",
   "id": "b6cfe15b",
   "metadata": {},
   "source": [
    "## Import the utility file and Cleaning the Columns"
   ]
  },
  {
   "cell_type": "code",
   "execution_count": null,
   "id": "e8c994f9",
   "metadata": {},
   "outputs": [],
   "source": [
    "import testUtil"
   ]
  },
  {
   "cell_type": "code",
   "execution_count": null,
   "id": "693460af",
   "metadata": {},
   "outputs": [],
   "source": [
    "df.columns = testUtil.cleanColumnHeaders(df.columns)"
   ]
  },
  {
   "cell_type": "code",
   "execution_count": null,
   "id": "0e761636",
   "metadata": {},
   "outputs": [],
   "source": [
    "df.head(2)"
   ]
  },
  {
   "cell_type": "markdown",
   "id": "74796250",
   "metadata": {},
   "source": [
    "## Writing the Yaml file"
   ]
  },
  {
   "cell_type": "code",
   "execution_count": null,
   "id": "13864a26",
   "metadata": {},
   "outputs": [],
   "source": [
    "%%writefile config.yaml\n",
    "file_type: csv\n",
    "dataset_name: airlineDelayData\n",
    "file_name: airline_2014\n",
    "inbound_delimiter: \",\"\n",
    "outbound_delimiter: \"|\"\n",
    "outbound_file_type: \"gzip\"\n",
    "output_file: \"Datasets/airlineDelayData2014-2018.gz\"\n",
    "columns:\n",
    "  - fl_date\n",
    "  - op_carrier\n",
    "  - op_carrier_fl_num\n",
    "  - origin\n",
    "  - dest\n",
    "  - crs_dep_time\n",
    "  - dep_time\n",
    "  - dep_delay\n",
    "  - taxi_out\n",
    "  - wheels_off\n",
    "  - wheels_on\n",
    "  - taxi_in\n",
    "  - crs_arr_time\n",
    "  - arr_time\n",
    "  - arr_delay\n",
    "  - cancelled\n",
    "  - cancellation_code\n",
    "  - diverted\n",
    "  - crs_elapsed_time\n",
    "  - actual_elapsed_time\n",
    "  - air_time\n",
    "  - distance\n",
    "  - carrier_delay\n",
    "  - weather_delay\n",
    "  - nas_delay\n",
    "  - security_delay\n",
    "  - late_aircraft_delay\n"
   ]
  },
  {
   "cell_type": "code",
   "execution_count": null,
   "id": "7fa86b69",
   "metadata": {},
   "outputs": [],
   "source": [
    "config_data = testUtil.read_config_file(\"config.yaml\")"
   ]
  },
  {
   "cell_type": "markdown",
   "id": "6b4e0430",
   "metadata": {},
   "source": [
    "## Validate the new data file"
   ]
  },
  {
   "cell_type": "code",
   "execution_count": null,
   "id": "a2d63b9a",
   "metadata": {},
   "outputs": [],
   "source": [
    "testUtil.validate_dataset(config_data,\"../Datasets/airline_2014.csv\")"
   ]
  },
  {
   "cell_type": "markdown",
   "id": "ef55df0e",
   "metadata": {},
   "source": [
    "### Remove the unwanted column and test again"
   ]
  },
  {
   "cell_type": "code",
   "execution_count": null,
   "id": "21faeb96",
   "metadata": {},
   "outputs": [],
   "source": [
    "tempData = dd.read_csv(\"../Datasets/airline_2014.csv\")"
   ]
  },
  {
   "cell_type": "code",
   "execution_count": null,
   "id": "e9569894",
   "metadata": {},
   "outputs": [],
   "source": [
    "tempData = tempData.drop(['unnamed: 27'],axis=1)"
   ]
  },
  {
   "cell_type": "code",
   "execution_count": null,
   "id": "2af61da4",
   "metadata": {},
   "outputs": [],
   "source": [
    "tempData.to_csv(\"../Datasets/airline_2014_updated.csv\", single_file=True, index=False)"
   ]
  },
  {
   "cell_type": "markdown",
   "id": "c6b59d30",
   "metadata": {},
   "source": [
    "## Validating the updated Dataset"
   ]
  },
  {
   "cell_type": "code",
   "execution_count": null,
   "id": "cb727358",
   "metadata": {},
   "outputs": [],
   "source": [
    "testUtil.validate_dataset(config_data,\"../Datasets/airline_2014_updated.csv\")"
   ]
  },
  {
   "cell_type": "markdown",
   "id": "b1ce6cc6",
   "metadata": {},
   "source": [
    "## Reading the new Data using dask"
   ]
  },
  {
   "cell_type": "code",
   "execution_count": null,
   "id": "f8b6e1ca",
   "metadata": {},
   "outputs": [],
   "source": [
    "airline_2014 = dd.read_csv(\"../Datasets/airline_2014_updated.csv\")"
   ]
  },
  {
   "cell_type": "code",
   "execution_count": null,
   "id": "09d3cc84",
   "metadata": {},
   "outputs": [],
   "source": [
    "airline_2014.info()"
   ]
  },
  {
   "cell_type": "code",
   "execution_count": null,
   "id": "193b1cf8",
   "metadata": {},
   "outputs": [],
   "source": [
    "airline_2014.shape[0].compute()"
   ]
  },
  {
   "cell_type": "markdown",
   "id": "c778f994",
   "metadata": {},
   "source": [
    "## Merging the two Datasets"
   ]
  },
  {
   "cell_type": "code",
   "execution_count": null,
   "id": "4e7944cd",
   "metadata": {},
   "outputs": [],
   "source": [
    "fullData = dd.concat([df,airline_2014])"
   ]
  },
  {
   "cell_type": "code",
   "execution_count": null,
   "id": "14cbb13d",
   "metadata": {},
   "outputs": [],
   "source": [
    "fullData.shape[0].compute()"
   ]
  },
  {
   "cell_type": "markdown",
   "id": "d5c5f989",
   "metadata": {},
   "source": [
    "## Writing the data to a | seperated gz file"
   ]
  },
  {
   "cell_type": "code",
   "execution_count": null,
   "id": "58928c22",
   "metadata": {},
   "outputs": [],
   "source": [
    "config_data[\"outbound_delimiter\"]"
   ]
  },
  {
   "cell_type": "code",
   "execution_count": null,
   "id": "ebce7c85",
   "metadata": {},
   "outputs": [],
   "source": [
    "config_data[\"outbound_file_type\"]"
   ]
  },
  {
   "cell_type": "code",
   "execution_count": null,
   "id": "837be046",
   "metadata": {},
   "outputs": [],
   "source": [
    "config_data[\"output_file\"]"
   ]
  },
  {
   "cell_type": "code",
   "execution_count": null,
   "id": "791541fa",
   "metadata": {
    "scrolled": true
   },
   "outputs": [],
   "source": [
    "df.to_csv(config_data[\"output_file\"], single_file=True, sep=config_data[\"outbound_delimiter\"], \n",
    "          compression=config_data[\"outbound_file_type\"], index=False)"
   ]
  },
  {
   "cell_type": "markdown",
   "id": "8cbc549a",
   "metadata": {},
   "source": [
    "## Summary of final data"
   ]
  },
  {
   "cell_type": "code",
   "execution_count": null,
   "id": "66abe2d4",
   "metadata": {},
   "outputs": [],
   "source": []
  }
 ],
 "metadata": {
  "kernelspec": {
   "display_name": "Python 3 (ipykernel)",
   "language": "python",
   "name": "python3"
  },
  "language_info": {
   "codemirror_mode": {
    "name": "ipython",
    "version": 3
   },
   "file_extension": ".py",
   "mimetype": "text/x-python",
   "name": "python",
   "nbconvert_exporter": "python",
   "pygments_lexer": "ipython3",
   "version": "3.9.7"
  }
 },
 "nbformat": 4,
 "nbformat_minor": 5
}
